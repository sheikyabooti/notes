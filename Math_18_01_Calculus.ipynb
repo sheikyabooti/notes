{
  "nbformat": 4,
  "nbformat_minor": 0,
  "metadata": {
    "colab": {
      "name": "Math 18.01 - Calculus.ipynb",
      "provenance": [],
      "collapsed_sections": [],
      "authorship_tag": "ABX9TyN80n81VOmnuna8a8KM3ydS",
      "include_colab_link": true
    },
    "kernelspec": {
      "name": "python3",
      "display_name": "Python 3"
    },
    "language_info": {
      "name": "python"
    }
  },
  "cells": [
    {
      "cell_type": "markdown",
      "metadata": {
        "id": "view-in-github",
        "colab_type": "text"
      },
      "source": [
        "<a href=\"https://colab.research.google.com/github/sheikyabooti/notes/blob/master/Math_18_01_Calculus.ipynb\" target=\"_parent\"><img src=\"https://colab.research.google.com/assets/colab-badge.svg\" alt=\"Open In Colab\"/></a>"
      ]
    },
    {
      "cell_type": "code",
      "metadata": {
        "id": "R3_DA6MAsbxT"
      },
      "source": [
        "\n",
        "\n"
      ],
      "execution_count": null,
      "outputs": []
    },
    {
      "cell_type": "markdown",
      "metadata": {
        "id": "0mIakVtSslZR"
      },
      "source": [
        "#18.01 - Single Variable Calculus\n",
        "https://ocw.mit.edu/courses/mathematics/18-01sc-single-variable-calculus-fall-2010/\n",
        "\n",
        "Geometric Interpretation of a derivative\n",
        "\n",
        "Find the tagent line to $y =f(x)$ at $P=(x_0,y_o):$\n",
        "\n",
        "$y-y_0 = m(x-x_0)$\n",
        "point $y_0 = f(x_0)$\n",
        "\n",
        "slope $m = f'(x_0)$\n",
        "\n",
        "#Definition $f'(x_0)$, the derivative of $f$ at $x_0$ is the slope of the tangent line $y=f(x)$ at p.\n",
        "\n",
        "Tangent line = limit of secant lines $PQ$ as $Q \\rightarrow P$ ($P$ fixed)\n",
        "\n",
        "$\\Delta x$ change in x\n",
        "\n",
        "$\\Delta f$ change in f\n",
        "\n",
        "slope is $\\frac{\\Delta f}{\\Delta x}$\n",
        "\n",
        "m = $lim_{\\Delta x \\rightarrow 0}$ $\\frac{\\Delta f}{\\Delta x}$\n",
        "\n",
        "m is slope of tangent\n",
        "\n",
        "$Q = (x_0 + \\Delta x, f(x_0 + \\Delta x))$\n",
        "\n",
        "$f'(x) = lim_{\\Delta x \\rightarrow 0} \\frac{f(x_0+\\Delta x) - f(x_0)}{\\Delta x}$"
      ]
    }
  ]
}