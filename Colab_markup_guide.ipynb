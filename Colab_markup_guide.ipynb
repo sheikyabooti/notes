{
  "nbformat": 4,
  "nbformat_minor": 0,
  "metadata": {
    "colab": {
      "name": "Colab markup guide",
      "provenance": [],
      "collapsed_sections": [],
      "authorship_tag": "ABX9TyPMVc0WcDE/0e7Iq7jF5T5P",
      "include_colab_link": true
    },
    "kernelspec": {
      "name": "python3",
      "display_name": "Python 3"
    },
    "language_info": {
      "name": "python"
    }
  },
  "cells": [
    {
      "cell_type": "markdown",
      "metadata": {
        "id": "view-in-github",
        "colab_type": "text"
      },
      "source": [
        "<a href=\"https://colab.research.google.com/github/sheikyabooti/notes/blob/master/Colab_markup_guide.ipynb\" target=\"_parent\"><img src=\"https://colab.research.google.com/assets/colab-badge.svg\" alt=\"Open In Colab\"/></a>"
      ]
    },
    {
      "cell_type": "code",
      "metadata": {
        "id": "JdDnFZMHxbpU"
      },
      "source": [
        ""
      ],
      "execution_count": null,
      "outputs": []
    },
    {
      "cell_type": "markdown",
      "metadata": {
        "id": "3DXscQaXxgoH"
      },
      "source": [
        "# \n",
        "\n",
        "\n",
        "\n",
        "Fractions\n",
        "$\\frac{a}{b}$\n",
        "\n",
        "\n",
        "\n",
        "Integrals\n",
        "$\\int_{-\\infty}^{\\infty}$\n"
      ]
    }
  ]
}