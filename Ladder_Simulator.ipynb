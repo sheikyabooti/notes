{
  "nbformat": 4,
  "nbformat_minor": 0,
  "metadata": {
    "colab": {
      "name": "Ladder Simulator",
      "provenance": [],
      "collapsed_sections": [],
      "include_colab_link": true
    },
    "kernelspec": {
      "name": "python3",
      "display_name": "Python 3"
    },
    "language_info": {
      "name": "python"
    }
  },
  "cells": [
    {
      "cell_type": "markdown",
      "metadata": {
        "id": "view-in-github",
        "colab_type": "text"
      },
      "source": [
        "<a href=\"https://colab.research.google.com/github/sheikyabooti/notes/blob/master/Ladder_Simulator.ipynb\" target=\"_parent\"><img src=\"https://colab.research.google.com/assets/colab-badge.svg\" alt=\"Open In Colab\"/></a>"
      ]
    },
    {
      "cell_type": "markdown",
      "metadata": {
        "id": "6vw1NcK7vvpl"
      },
      "source": [
        "# Ladder Simulator\n",
        "\n"
      ]
    },
    {
      "cell_type": "code",
      "metadata": {
        "id": "-L1KdJYbwmS8",
        "colab": {
          "base_uri": "https://localhost:8080/"
        },
        "outputId": "44b99d58-c5ad-4648-dabc-56541a548655"
      },
      "source": [
        "%pip install trueskill"
      ],
      "execution_count": 1,
      "outputs": [
        {
          "output_type": "stream",
          "name": "stdout",
          "text": [
            "Collecting trueskill\n",
            "  Downloading trueskill-0.4.5.tar.gz (21 kB)\n",
            "Requirement already satisfied: six in /usr/local/lib/python3.7/dist-packages (from trueskill) (1.15.0)\n",
            "Building wheels for collected packages: trueskill\n",
            "  Building wheel for trueskill (setup.py) ... \u001b[?25l\u001b[?25hdone\n",
            "  Created wheel for trueskill: filename=trueskill-0.4.5-py3-none-any.whl size=18046 sha256=c4c1ff972e5821b51d2456d295f8104492b9dff80accbf85ff3004f18bdb7683\n",
            "  Stored in directory: /root/.cache/pip/wheels/bf/cb/b7/441dde3542ccda9474afc6b53b81da197b0867e56e0dae7e09\n",
            "Successfully built trueskill\n",
            "Installing collected packages: trueskill\n",
            "Successfully installed trueskill-0.4.5\n"
          ]
        }
      ]
    },
    {
      "cell_type": "code",
      "metadata": {
        "colab": {
          "base_uri": "https://localhost:8080/"
        },
        "id": "HVhjk-x6-_PE",
        "outputId": "733eb592-9606-429f-ed96-6925ce0453e1"
      },
      "source": [
        "!pip install git+https://github.com/OpenDebates/openskill.py.git --ignore-requires-python"
      ],
      "execution_count": 2,
      "outputs": [
        {
          "output_type": "stream",
          "name": "stdout",
          "text": [
            "Collecting git+https://github.com/OpenDebates/openskill.py.git\n",
            "  Cloning https://github.com/OpenDebates/openskill.py.git to /tmp/pip-req-build-_s7zscpf\n",
            "  Running command git clone -q https://github.com/OpenDebates/openskill.py.git /tmp/pip-req-build-_s7zscpf\n",
            "  Installing build dependencies ... \u001b[?25l\u001b[?25hdone\n",
            "  Getting requirements to build wheel ... \u001b[?25l\u001b[?25hdone\n",
            "    Preparing wheel metadata ... \u001b[?25l\u001b[?25hdone\n",
            "Collecting scipy<2.0.0,>=1.7.1\n",
            "  Downloading scipy-1.7.2-cp37-cp37m-manylinux_2_12_x86_64.manylinux2010_x86_64.whl (38.2 MB)\n",
            "\u001b[K     |████████████████████████████████| 38.2 MB 24 kB/s \n",
            "\u001b[?25hRequirement already satisfied: numpy<1.23.0,>=1.16.5 in /usr/local/lib/python3.7/dist-packages (from scipy<2.0.0,>=1.7.1->openskill==0.1.0a2) (1.19.5)\n",
            "Building wheels for collected packages: openskill\n",
            "  Building wheel for openskill (PEP 517) ... \u001b[?25l\u001b[?25hdone\n",
            "  Created wheel for openskill: filename=openskill-0.1.0a2-py3-none-any.whl size=41838 sha256=f024e1def61c3e8d1319a23112163435455473e802c606f660cf2b15834711da\n",
            "  Stored in directory: /tmp/pip-ephem-wheel-cache-6ls4sgu5/wheels/f3/bb/b1/b969692a4edf7a6687a484c71bdad3da87114b99a0daac50df\n",
            "Successfully built openskill\n",
            "Installing collected packages: scipy, openskill\n",
            "  Attempting uninstall: scipy\n",
            "    Found existing installation: scipy 1.4.1\n",
            "    Uninstalling scipy-1.4.1:\n",
            "      Successfully uninstalled scipy-1.4.1\n",
            "\u001b[31mERROR: pip's dependency resolver does not currently take into account all the packages that are installed. This behaviour is the source of the following dependency conflicts.\n",
            "albumentations 0.1.12 requires imgaug<0.2.7,>=0.2.5, but you have imgaug 0.2.9 which is incompatible.\u001b[0m\n",
            "Successfully installed openskill-0.1.0a2 scipy-1.7.2\n"
          ]
        }
      ]
    },
    {
      "cell_type": "code",
      "metadata": {
        "id": "YFXXwQ0Hv455"
      },
      "source": [
        "from numpy.linalg import norm\n",
        "\n",
        "class Kmeans:\n",
        "\n",
        "  # --\n",
        "  def __init__(self, k, max_iter=100):\n",
        "        self.k = k\n",
        "        self.max_iter = max_iter\n",
        "\n",
        "  # -- initializes an array of centroids set to a radom sample from X\n",
        "  def initialize_centroids(self, X):\n",
        "    centroids = np.zeros((self.k, X.shape[1]))\n",
        "\n",
        "    random_idx = np.random.permutation(X.shape[0])\n",
        "    centroids = X[random_idx[:self.k]]\n",
        "\n",
        "    return centroids\n",
        "\n",
        "  # -- computes distance from each element to each centroid\n",
        "  def compute_distance(self, X):\n",
        "    distance = np.zeros((X.shape[0], self.k))\n",
        "    for i in range(self.k):\n",
        "\n",
        "      row_norm = norm(X - self.centroids[i,:], axis=1)\n",
        "      \n",
        "      distance[:, i] = np.square(row_norm)\n",
        "\n",
        "    return distance\n",
        "\n",
        "  # -- finds the index of the nearest centroid\n",
        "  def find_closest_cluster(self, distance):\n",
        "    return np.argmin(distance, axis=1)\n",
        "\n",
        "  # -- computes the centroids of each region\n",
        "  def compute_centroids(self, X):\n",
        "    centroids = np.zeros((self.k, X.shape[1]))\n",
        "\n",
        "    for i in range(self.k):\n",
        "      centroids[i, :] = np.mean(X[self.labels == i, :], axis=0)\n",
        "\n",
        "    return centroids\n",
        "\n",
        "  # -- computers the error of the partition \n",
        "  def compute_sse(self, X, labels, centroids):\n",
        "      distance = np.zeros(X.shape[0])\n",
        "      for i in range(self.k):\n",
        "          distance[labels == i] = norm(X[labels == i] - centroids[i], axis=1)\n",
        "      return np.sum(np.square(distance))    \n",
        "\n",
        "  # k-means clustering algorithm\n",
        "  def fit(self, X):\n",
        "    # standardize input\n",
        "\n",
        "    self.centroids = self.initialize_centroids(X)\n",
        "\n",
        "    for i in range(self.max_iter):\n",
        "      prev_centroids = self.centroids\n",
        "      distance = self.compute_distance(X)\n",
        "      self.labels = self.find_closest_cluster(distance)\n",
        "\n",
        "      self.centroids = self.compute_centroids(X)\n",
        "\n",
        "      if np.all(prev_centroids == self.centroids):\n",
        "        break\n",
        "\n",
        "    self.error = self.compute_sse(X, self.labels, self.centroids)  "
      ],
      "execution_count": 4,
      "outputs": []
    },
    {
      "cell_type": "code",
      "metadata": {
        "colab": {
          "base_uri": "https://localhost:8080/",
          "height": 422
        },
        "id": "v2VWFZdi1Mry",
        "outputId": "42d99461-fe8f-43b4-deba-7aaec7041878"
      },
      "source": [
        "import matplotlib.pyplot as plt\n",
        "from sklearn.preprocessing import StandardScaler\n",
        "\n",
        "import numpy as np\n",
        "\n",
        "my_data = np.genfromtxt('old_faithful.csv', delimiter=',')\n",
        "\n",
        "# trim off the axes names\n",
        "my_data = my_data[1:,:]\n",
        "\n",
        "# Standardize the data\n",
        "X_std = StandardScaler().fit_transform(my_data)\n",
        "\n",
        "print('X_std shape' + str(X_std.shape))\n",
        "#print(X_std)\n",
        "\n",
        "km = Kmeans(k=2, max_iter=100)\n",
        "km.fit(X_std)\n",
        "\n",
        "# Plot the clustered data\n",
        "fig, ax = plt.subplots(figsize=(6, 6))\n",
        "plt.scatter(X_std[km.labels == 0, 0], X_std[km.labels == 0, 1],\n",
        "            c='green', label='cluster 1')\n",
        "plt.scatter(X_std[km.labels == 1, 0], X_std[km.labels == 1, 1],\n",
        "            c='blue', label='cluster 2')\n",
        "plt.scatter(km.centroids[:, 0], km.centroids[:, 1], marker='*', s=300,\n",
        "            c='r', label='centroid')\n",
        "plt.legend()\n",
        "plt.xlim([-2, 2])\n",
        "plt.ylim([-2, 2])\n",
        "plt.xlabel('Eruption time in mins')\n",
        "plt.ylabel('Waiting time to next eruption')\n",
        "plt.title('Visualization of clustered data', fontweight='bold')\n",
        "ax.set_aspect('equal');"
      ],
      "execution_count": 6,
      "outputs": [
        {
          "output_type": "stream",
          "name": "stdout",
          "text": [
            "X_std shape(272, 2)\n"
          ]
        },
        {
          "output_type": "display_data",
          "data": {
            "image/png": "[encoded data removed]",
            "text/plain": [
              "<Figure size 432x432 with 1 Axes>"
            ]
          },
          "metadata": {
            "needs_background": "light"
          }
        }
      ]
    },
    {
      "cell_type": "code",
      "metadata": {
        "colab": {
          "base_uri": "https://localhost:8080/",
          "height": 1000
        },
        "id": "rVAbHvI7yodd",
        "outputId": "ffc3728a-f079-45d4-ab34-3189ed165b45"
      },
      "source": [
        "#from openskill import Rating, rate\n",
        "#from openskill.models import PlackettLuce\n",
        "\n",
        "#from trueskill import Rating, quality_1vs1, rate_1vs1\n",
        "\n",
        "import numpy as np\n",
        "\n",
        "%matplotlib inline\n",
        "import matplotlib.pyplot as plt\n",
        "import random\n",
        "import math\n",
        "import openskill as openskill\n",
        "import trueskill as ts\n",
        "\n",
        "from scipy.stats import norm as norm2\n",
        "\n",
        "import itertools\n",
        "\n",
        "from sklearn.preprocessing import StandardScaler\n",
        "\n",
        "BETA = 4.17\n",
        "\n",
        "\n",
        "# -- \n",
        "def total_skill(team):\n",
        "    \n",
        "    total = 0\n",
        "\n",
        "    for i, player in enumerate(team):\n",
        "        total += player.mu\n",
        "\n",
        "    return total\n",
        "\n",
        "# -- \n",
        "def total_sigma(team):\n",
        "    total = 0\n",
        " \n",
        "    for i, player in enumerate(team):\n",
        "        total += player.sigma\n",
        "        \n",
        "    return total\n",
        "\n",
        "# -- \n",
        "def win_probability(team0, team1, teamsize):\n",
        "    total0 = total_skill(team0)\n",
        "    total1 = total_skill(team1)\n",
        "    \n",
        "    sigma0 = total_sigma(team0)\n",
        "    sigma1 = total_sigma(team1)\n",
        "    \n",
        "    deltaMu = total0 - total1\n",
        "    sumSigma = sigma0 + sigma1\n",
        " \n",
        "    playercount = teamsize * 2\n",
        "\n",
        "    denominator = math.sqrt(playercount * (BETA * BETA) + sumSigma)\n",
        "    \n",
        "    return norm2.cdf(deltaMu/denominator)\n",
        "\n",
        "    \n",
        "# -- \n",
        "def select_matches(teamsize, num_matches):\n",
        "\n",
        "\n",
        "  num_teams = int(NUM_PLAYERS / teamsize)\n",
        "  NUM_FEATURES = 2 # mu, sigma\n",
        "\n",
        "  tmpskill = []\n",
        "  for i in range(NUM_PLAYERS):\n",
        "    tmpskill.append(np.array([os_ratings[i].mu, os_ratings[i].sigma]))\n",
        "\n",
        "  skill = np.asarray(tmpskill)\n",
        "  X_std = StandardScaler().fit_transform(skill)\n",
        "\n",
        "\n",
        "  labels = []\n",
        "  errors = []\n",
        "\n",
        "  NUM_KMEANS_RUNS = 10\n",
        "  for i in range(NUM_KMEANS_RUNS):\n",
        "    km = Kmeans(k=num_teams, max_iter=100)\n",
        "    km.fit(X_std)\n",
        "    \n",
        "    labels.append(km.labels)\n",
        "    errors.append(km.error)\n",
        "\n",
        "  best = np.argmin(errors)\n",
        "\n",
        "  print('best is ' + str(best))\n",
        "\n",
        "  print(errors)\n",
        "  print('ack')    \n",
        "\n",
        "  teams = []\n",
        "  for i in range(num_teams):\n",
        "    teams.append([])\n",
        "\n",
        "  teamlabels = labels[best]\n",
        "\n",
        "  for playerid, team in enumerate(teamlabels):\n",
        "    teams[team].append(playerid)\n",
        "\n",
        "  small_teams = []\n",
        "  loose_players = []\n",
        "\n",
        "  # trim teams down to size\n",
        "  for i in range(num_teams):\n",
        "    cur = teams[i]\n",
        "    team_size = len(cur)\n",
        "\n",
        "    if team_size < teamsize:\n",
        "      small_teams.append(cur)\n",
        "    elif team_size > teamsize:\n",
        "      diff = team_size - teamsize\n",
        "\n",
        "      for j in range(diff):\n",
        "        # -- TODO: choose furthest team member from centroid\n",
        "        loose = cur[len(cur)-1]\n",
        "\n",
        "        cur = cur[:len(cur)-1]\n",
        "\n",
        "        tmp = teams[i]\n",
        "        loose_players.append(loose)\n",
        "\n",
        "      teams[i] = cur[0:teamsize]\n",
        "\n",
        "  # distribute loose players into closest teams\n",
        "  for i, curteam in enumerate(small_teams):\n",
        "    diff = teamsize - len(curteam)\n",
        "    for j in range(diff):\n",
        "\n",
        "      tmp = loose_players[len(loose_players)-1]\n",
        "\n",
        "      # -- TODO choose closest loose player\n",
        "      curteam.append(loose_players[len(loose_players) - 1])\n",
        "      loose_players = loose_players[:len(loose_players)-1]\n",
        "\n",
        "      teams[i] = curteam\n",
        "\n",
        "\n",
        "  # -- validate teams\n",
        "  # should be sized 4, and disjoint\n",
        "  for i in range(num_teams):\n",
        "    curteam = teams[i]\n",
        "\n",
        "    if len(curteam) != teamsize:\n",
        "      print('fail teamsize ' + str(i) + ' ' + str(len(curteam)))\n",
        "\n",
        "      for tmp, curplayer in enumerate(curteam):\n",
        "        for j in range(num_teams):\n",
        "          if i != j and curplayer in teams[j]:\n",
        "            print('fail duplicate' + str(i) + ' ' + str(j))\n",
        "\n",
        "    team_skill_totals = []\n",
        "    for i in range(num_teams):\n",
        "      totalskill = 0\n",
        "      for j, playerid in enumerate(teams[i]):\n",
        "        totalskill += os_ratings[i].mu\n",
        "\n",
        "      team_skill_totals.append(totalskill)  \n",
        "\n",
        "    teamskills = np.asarray(team_skill_totals)\n",
        "\n",
        "    # -- build the cost of each pairing\n",
        "    matchmatrix = []\n",
        "    for i in range(num_teams):\n",
        "      matchcost = []\n",
        "\n",
        "      for j in range(num_teams):\n",
        "        cost = teamskills[i] - teamskills[j]\n",
        "\n",
        "        if i == j:\n",
        "          cost = 100000000\n",
        "        matchcost.append(np.square(cost))      \n",
        "\n",
        "      matchmatrix.append(np.asarray(matchcost))\n",
        "    matchmatrix = np.asarray(matchmatrix)\n",
        "\n",
        "    matchedteams = set()\n",
        "\n",
        "    minteam = np.argmin(matchmatrix, axis=0)\n",
        "\n",
        "    matches = []\n",
        "    match_costs = []\n",
        "\n",
        "    for i in range(num_teams):\n",
        "\n",
        "      if i in matchedteams:\n",
        "        continue\n",
        "\n",
        "      j = minteam[i]\n",
        "\n",
        "      if j in matchedteams:\n",
        "        continue\n",
        "      \n",
        "      matchedteam = []\n",
        "      matchedteam.append(teams[i])\n",
        "      matchedteam.append(teams[j])\n",
        "      cost = np.square(teamskills[i] - teamskills[j])\n",
        "      match_costs.append(cost)\n",
        "\n",
        "  return matches, match_costs\n",
        "\n",
        "\n",
        "NUM_PLAYERS = 200\n",
        "\n",
        "population_mu = 1000 # mean\n",
        "population_sigma = 300 # standard deviation\n",
        "truemmr = np.random.normal(population_mu, population_sigma, NUM_PLAYERS)\n",
        "\n",
        "plt.hist(truemmr, bins = 100) \n",
        "plt.show()\n",
        "\n",
        "NUM_UPDATES = 10\n",
        "MATCHES_PER_UPDATE = 1\n",
        "TEAM_SIZE = 4\n",
        "\n",
        "# -- set up the hidden skill variable\n",
        "print('setting up players')\n",
        "ts_ratings = []\n",
        "os_ratings = []\n",
        "for i in range(NUM_PLAYERS):\n",
        "    ts_ratings.append(ts.Rating(mu=truemmr[i]))\n",
        "    os_ratings.append(openskill.Rating(1000,300))\n",
        "\n",
        "#plt.hist(truemmr, bins = 100)    \n",
        "#plt.show()\n",
        "    \n",
        "print('simulating matches')\n",
        "for i in range(NUM_UPDATES):\n",
        "  teamsize = TEAM_SIZE\n",
        "  matches_per_update = MATCHES_PER_UPDATE\n",
        "\n",
        "  # -- select a batch of matches\n",
        "  matches, match_costs = select_matches(teamsize, matches_per_update)\n",
        "    \n",
        "  for match in matches:\n",
        "    teamids0 = match[0]\n",
        "    teamids1 = match[1]\n",
        "    \n",
        "    team0 = []\n",
        "    for i, curid in enumerate(teamids0):\n",
        "        team0.append(os_ratings[curid])\n",
        "        \n",
        "    team1 = []\n",
        "    for i, curid in enumerate(teamids1):\n",
        "        team1.append(os_ratings[curid])\n",
        "        \n",
        "    winprob = win_probability(team0, team1, teamsize)\n",
        "  \n",
        "    # -- simulate win\n",
        "    if winprob > np.random.rand():\n",
        "        newteam0, newteam1 = openskill.rate([team0, team1])\n",
        "    else:\n",
        "        newteam1, newteam0 = openskill.rate([team1, team0])\n",
        "        \n",
        "    # -- update ratings for team0\n",
        "    for i, curid in enumerate(teamids0):\n",
        "        newrating = newteam0[i]\n",
        "        os_ratings[curid] = openskill.Rating(mu=newrating[0], sigma=newrating[1])\n",
        "      \n",
        "    # -- update ratings for team1\n",
        "    for i, curid in enumerate(teamids1):\n",
        "        newrating = newteam1[i]\n",
        "        os_ratings[curid] = openskill.Rating(mu=newrating[0], sigma=newrating[1])\n",
        "        \n",
        "  end_ratings = np.zeros(NUM_PLAYERS)\n",
        "  diff = np.zeros(NUM_PLAYERS)\n",
        "\n",
        "  print('evaluating players')\n",
        "  for i in range(NUM_PLAYERS):\n",
        "      end_ratings[i] = os_ratings[i].mu\n",
        "      diff[i] = ts_ratings[i].mu - os_ratings[i].mu\n",
        "      \n",
        "      \n",
        "  plt.hist(end_ratings, bins = 100) \n",
        "  plt.show()\n",
        "      \n",
        "  n_bins = 20    \n",
        "  fig, axs = plt.subplots(1, 1, sharey=True, tight_layout=True)\n",
        "  axs.hist(diff, bins=n_bins)\n",
        "\n"
      ],
      "execution_count": 7,
      "outputs": [
        {
          "output_type": "display_data",
          "data": {
            "image/png": "[encoded data removed]",
            "text/plain": [
              "<Figure size 432x288 with 1 Axes>"
            ]
          },
          "metadata": {
            "needs_background": "light"
          }
        },
        {
          "output_type": "stream",
          "name": "stdout",
          "text": [
            "setting up players\n",
            "simulating matches\n"
          ]
        },
        {
          "output_type": "stream",
          "name": "stderr",
          "text": [
            "/usr/local/lib/python3.7/dist-packages/numpy/core/fromnumeric.py:3373: RuntimeWarning: Mean of empty slice.\n",
            "  out=out, **kwargs)\n",
            "/usr/local/lib/python3.7/dist-packages/numpy/core/_methods.py:163: RuntimeWarning: invalid value encountered in true_divide\n",
            "  ret, rcount, out=ret, casting='unsafe', subok=False)\n"
          ]
        },
        {
          "output_type": "stream",
          "name": "stdout",
          "text": [
            "best is 0\n",
            "[0.0, 0.0, 0.0, 0.0, 0.0, 0.0, 0.0, 0.0, 0.0, 0.0]\n",
            "ack\n",
            "evaluating players\n"
          ]
        },
        {
          "output_type": "display_data",
          "data": {
            "image/png": "[encoded data removed]",
            "text/plain": [
              "<Figure size 432x288 with 1 Axes>"
            ]
          },
          "metadata": {
            "needs_background": "light"
          }
        },
        {
          "output_type": "stream",
          "name": "stderr",
          "text": [
            "/usr/local/lib/python3.7/dist-packages/numpy/core/fromnumeric.py:3373: RuntimeWarning: Mean of empty slice.\n",
            "  out=out, **kwargs)\n",
            "/usr/local/lib/python3.7/dist-packages/numpy/core/_methods.py:163: RuntimeWarning: invalid value encountered in true_divide\n",
            "  ret, rcount, out=ret, casting='unsafe', subok=False)\n"
          ]
        },
        {
          "output_type": "stream",
          "name": "stdout",
          "text": [
            "best is 0\n",
            "[0.0, 0.0, 0.0, 0.0, 0.0, 0.0, 0.0, 0.0, 0.0, 0.0]\n",
            "ack\n",
            "evaluating players\n"
          ]
        },
        {
          "output_type": "display_data",
          "data": {
            "image/png": "[encoded data removed]",
            "text/plain": [
              "<Figure size 432x288 with 1 Axes>"
            ]
          },
          "metadata": {
            "needs_background": "light"
          }
        },
        {
          "output_type": "stream",
          "name": "stderr",
          "text": [
            "/usr/local/lib/python3.7/dist-packages/numpy/core/fromnumeric.py:3373: RuntimeWarning: Mean of empty slice.\n",
            "  out=out, **kwargs)\n",
            "/usr/local/lib/python3.7/dist-packages/numpy/core/_methods.py:163: RuntimeWarning: invalid value encountered in true_divide\n",
            "  ret, rcount, out=ret, casting='unsafe', subok=False)\n"
          ]
        },
        {
          "output_type": "stream",
          "name": "stdout",
          "text": [
            "best is 0\n",
            "[0.0, 0.0, 0.0, 0.0, 0.0, 0.0, 0.0, 0.0, 0.0, 0.0]\n",
            "ack\n",
            "evaluating players\n"
          ]
        },
        {
          "output_type": "display_data",
          "data": {
            "image/png": "[encoded data removed]",
            "text/plain": [
              "<Figure size 432x288 with 1 Axes>"
            ]
          },
          "metadata": {
            "needs_background": "light"
          }
        },
        {
          "output_type": "stream",
          "name": "stderr",
          "text": [
            "/usr/local/lib/python3.7/dist-packages/numpy/core/fromnumeric.py:3373: RuntimeWarning: Mean of empty slice.\n",
            "  out=out, **kwargs)\n",
            "/usr/local/lib/python3.7/dist-packages/numpy/core/_methods.py:163: RuntimeWarning: invalid value encountered in true_divide\n",
            "  ret, rcount, out=ret, casting='unsafe', subok=False)\n"
          ]
        },
        {
          "output_type": "stream",
          "name": "stdout",
          "text": [
            "best is 0\n",
            "[0.0, 0.0, 0.0, 0.0, 0.0, 0.0, 0.0, 0.0, 0.0, 0.0]\n",
            "ack\n",
            "evaluating players\n"
          ]
        },
        {
          "output_type": "display_data",
          "data": {
            "image/png": "[encoded data removed]",
            "text/plain": [
              "<Figure size 432x288 with 1 Axes>"
            ]
          },
          "metadata": {
            "needs_background": "light"
          }
        },
        {
          "output_type": "stream",
          "name": "stderr",
          "text": [
            "/usr/local/lib/python3.7/dist-packages/numpy/core/fromnumeric.py:3373: RuntimeWarning: Mean of empty slice.\n",
            "  out=out, **kwargs)\n",
            "/usr/local/lib/python3.7/dist-packages/numpy/core/_methods.py:163: RuntimeWarning: invalid value encountered in true_divide\n",
            "  ret, rcount, out=ret, casting='unsafe', subok=False)\n"
          ]
        },
        {
          "output_type": "stream",
          "name": "stdout",
          "text": [
            "best is 0\n",
            "[0.0, 0.0, 0.0, 0.0, 0.0, 0.0, 0.0, 0.0, 0.0, 0.0]\n",
            "ack\n",
            "evaluating players\n"
          ]
        },
        {
          "output_type": "display_data",
          "data": {
            "image/png": "[encoded data removed]",
            "text/plain": [
              "<Figure size 432x288 with 1 Axes>"
            ]
          },
          "metadata": {
            "needs_background": "light"
          }
        },
        {
          "output_type": "stream",
          "name": "stderr",
          "text": [
            "/usr/local/lib/python3.7/dist-packages/numpy/core/fromnumeric.py:3373: RuntimeWarning: Mean of empty slice.\n",
            "  out=out, **kwargs)\n",
            "/usr/local/lib/python3.7/dist-packages/numpy/core/_methods.py:163: RuntimeWarning: invalid value encountered in true_divide\n",
            "  ret, rcount, out=ret, casting='unsafe', subok=False)\n"
          ]
        },
        {
          "output_type": "stream",
          "name": "stdout",
          "text": [
            "best is 0\n",
            "[0.0, 0.0, 0.0, 0.0, 0.0, 0.0, 0.0, 0.0, 0.0, 0.0]\n",
            "ack\n",
            "evaluating players\n"
          ]
        },
        {
          "output_type": "display_data",
          "data": {
            "image/png": "[encoded data removed]",
            "text/plain": [
              "<Figure size 432x288 with 1 Axes>"
            ]
          },
          "metadata": {
            "needs_background": "light"
          }
        },
        {
          "output_type": "stream",
          "name": "stderr",
          "text": [
            "/usr/local/lib/python3.7/dist-packages/numpy/core/fromnumeric.py:3373: RuntimeWarning: Mean of empty slice.\n",
            "  out=out, **kwargs)\n",
            "/usr/local/lib/python3.7/dist-packages/numpy/core/_methods.py:163: RuntimeWarning: invalid value encountered in true_divide\n",
            "  ret, rcount, out=ret, casting='unsafe', subok=False)\n"
          ]
        },
        {
          "output_type": "stream",
          "name": "stdout",
          "text": [
            "best is 0\n",
            "[0.0, 0.0, 0.0, 0.0, 0.0, 0.0, 0.0, 0.0, 0.0, 0.0]\n",
            "ack\n",
            "evaluating players\n"
          ]
        },
        {
          "output_type": "display_data",
          "data": {
            "image/png": "[encoded data removed]",
            "text/plain": [
              "<Figure size 432x288 with 1 Axes>"
            ]
          },
          "metadata": {
            "needs_background": "light"
          }
        },
        {
          "output_type": "stream",
          "name": "stderr",
          "text": [
            "/usr/local/lib/python3.7/dist-packages/numpy/core/fromnumeric.py:3373: RuntimeWarning: Mean of empty slice.\n",
            "  out=out, **kwargs)\n",
            "/usr/local/lib/python3.7/dist-packages/numpy/core/_methods.py:163: RuntimeWarning: invalid value encountered in true_divide\n",
            "  ret, rcount, out=ret, casting='unsafe', subok=False)\n"
          ]
        },
        {
          "output_type": "stream",
          "name": "stdout",
          "text": [
            "best is 0\n",
            "[0.0, 0.0, 0.0, 0.0, 0.0, 0.0, 0.0, 0.0, 0.0, 0.0]\n",
            "ack\n",
            "evaluating players\n"
          ]
        },
        {
          "output_type": "display_data",
          "data": {
            "image/png": "[encoded data removed]",
            "text/plain": [
              "<Figure size 432x288 with 1 Axes>"
            ]
          },
          "metadata": {
            "needs_background": "light"
          }
        },
        {
          "output_type": "stream",
          "name": "stderr",
          "text": [
            "/usr/local/lib/python3.7/dist-packages/numpy/core/fromnumeric.py:3373: RuntimeWarning: Mean of empty slice.\n",
            "  out=out, **kwargs)\n",
            "/usr/local/lib/python3.7/dist-packages/numpy/core/_methods.py:163: RuntimeWarning: invalid value encountered in true_divide\n",
            "  ret, rcount, out=ret, casting='unsafe', subok=False)\n"
          ]
        },
        {
          "output_type": "stream",
          "name": "stdout",
          "text": [
            "best is 0\n",
            "[0.0, 0.0, 0.0, 0.0, 0.0, 0.0, 0.0, 0.0, 0.0, 0.0]\n",
            "ack\n",
            "evaluating players\n"
          ]
        },
        {
          "output_type": "display_data",
          "data": {
            "image/png": "[encoded data removed]",
            "text/plain": [
              "<Figure size 432x288 with 1 Axes>"
            ]
          },
          "metadata": {
            "needs_background": "light"
          }
        },
        {
          "output_type": "stream",
          "name": "stderr",
          "text": [
            "/usr/local/lib/python3.7/dist-packages/numpy/core/fromnumeric.py:3373: RuntimeWarning: Mean of empty slice.\n",
            "  out=out, **kwargs)\n",
            "/usr/local/lib/python3.7/dist-packages/numpy/core/_methods.py:163: RuntimeWarning: invalid value encountered in true_divide\n",
            "  ret, rcount, out=ret, casting='unsafe', subok=False)\n"
          ]
        },
        {
          "output_type": "stream",
          "name": "stdout",
          "text": [
            "best is 0\n",
            "[0.0, 0.0, 0.0, 0.0, 0.0, 0.0, 0.0, 0.0, 0.0, 0.0]\n",
            "ack\n",
            "evaluating players\n"
          ]
        },
        {
          "output_type": "display_data",
          "data": {
            "image/png": "[encoded data removed]",
            "text/plain": [
              "<Figure size 432x288 with 1 Axes>"
            ]
          },
          "metadata": {
            "needs_background": "light"
          }
        },
        {
          "output_type": "display_data",
          "data": {
            "image/png": "[encoded data removed]",
            "text/plain": [
              "<Figure size 432x288 with 1 Axes>"
            ]
          },
          "metadata": {
            "needs_background": "light"
          }
        }
      ]
    },
    {
      "cell_type": "code",
      "metadata": {
        "colab": {
          "base_uri": "https://localhost:8080/"
        },
        "id": "T9hIRUPTFmFR",
        "outputId": "008a15b1-2189-4397-fe8a-6ba10af2a784"
      },
      "source": [
        ")import numpy as np\n",
        "\n",
        "a = []\n",
        "for i in range(5):\n",
        "    a.append(np.array([1,2,3])) # or a.append([1,2,3])\n",
        "a = np.asarray(a) # a list of 1D arrays (or lists) becomes a 2D array\n",
        "\n",
        "print(a.shape)\n",
        "print(a)"
      ],
      "execution_count": null,
      "outputs": [
        {
          "output_type": "stream",
          "name": "stdout",
          "text": [
            "(5, 3)\n",
            "[[1 2 3]\n",
            " [1 2 3]\n",
            " [1 2 3]\n",
            " [1 2 3]\n",
            " [1 2 3]]\n"
          ]
        }
      ]
    },
    {
      "cell_type": "code",
      "metadata": {
        "id": "N75XZryh-2gQ"
      },
      "source": [
        ""
      ],
      "execution_count": null,
      "outputs": []
    }
  ]
}